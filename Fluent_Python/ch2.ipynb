{
 "cells": [
  {
   "cell_type": "markdown",
   "metadata": {},
   "source": [
    "# 2024-1 SCSC SIG: Fluent Python\n",
    "## Week 1 Discussion: Part 1 - Data Structures\n",
    "### Chapter 2 - An Array of Sequences\n",
    "Date: 2024-04-05\n",
    "\n",
    "Speaker: Samuel Seungsup Lee, Mechanical and Aerospace Engineering, Seoul National University"
   ]
  },
  {
   "cell_type": "markdown",
   "metadata": {},
   "source": [
    "### 0. Before Reading: Background Knowledge\n",
    "\n",
    "**Container sequence**\n",
    ": 모든 객체를 담을 수 있는 시퀀스. 예로 list, tuple, collections.deque 등이 있다. 강력하지만 크고 둔하다.\n",
    "\n",
    "**Flat sequence**\n",
    ": 단순자료형만 담을 수 있는 시퀀스. 예로 str, bytes, array.array 등이 있다. 단순하지만 작고 빠르다.\n",
    "\n",
    "**Mutable sequence**\n",
    ": (아마?) 안에 담은 데이터를 직접적으로 수정할 수 있는 시퀀스. 예로 list, bytearray, array.array, collections.deque 등이 있다.\n",
    "\n",
    "**Immutable sequence**\n",
    ": 안에 담은 데이터를 직접적으로 수정할 수 없는 시퀀스. 예로 str, tuple, bytes 등이 있다. (str을 immutable하게 설정해서 효율적인 메모리 할당, dict의 key로 활용 등이 가능해졌다.)\n",
    "\n",
    "**List comprehension**\n",
    ": `[foo(dat) for dat in dats]`\n",
    "\n",
    "**Walrus operator**\n",
    ": Comprehension이나 expression 안에 `:=`식으로 정의된 변수는 연산 종료 이후에도 호출이 가능하다. \n",
    "\n",
    "**Syntax Tips**\n",
    ": [], {},, () 안에 줄바꿈은 무시되고, 마지막 항 이후 쉼표 `,`도 무시된다. 일반적으로 마지막 항 이후에도 쉼표를 넣어서 타 개발자가 항목을 추가했을 때 변경항목의 개수를 줄이는 것이 예의이다. Tuple에 원소가 하나만 있으면 (dat,)식으로 쉼표 `,`을 반드시 넣어야 한다.\n",
    "\n",
    "**Tuples**\n",
    ": Tuple의 장점으로는 길이가 절대로 변하지 않는다는 것과 list보다 메모리 사용이 적은 것이 있다. Tuple을 생성할 때는 하나의 작업으로 byte가 생성되지만, list을 생성할 때는 stack으로 각 원소의 byte를 넣은 후에 list을 생성한다. t가 tuple이라면 tuple(t)는 해당 t를 바로 reference하지만, l이 list더라도 list(l)은 l의 copy를 생성한다. list는 mutable하므로 여유메모리를 필요로 하지만, tuple은 여유메모릭가 필요 없다. Tuple 내 원소의 reference는 tuple struct안에 바로 저장이 되지만, list는 다른 주소에서 저장된 reference array를 가리키는 pointer가 저장되어서 상대적으로 비효율적이다. \n"
   ]
  },
  {
   "cell_type": "markdown",
   "metadata": {},
   "source": [
    "### 1. Topics Covered\n",
    "\n",
    "1. List comprehensions and the basics of generator expressions.\n",
    "\n",
    "2. Using tuples as records versus using tuples as immutable lists.\n",
    "\n",
    "3. Sequence unpacking and sequence patterns.\n",
    "\n",
    "4. Reading from slices and writing to slices.\n",
    "\n",
    "5. Specialized sequence types, like arrays and queues."
   ]
  },
  {
   "cell_type": "markdown",
   "metadata": {},
   "source": [
    "#### 1.1. List Comprehensions and Generator Expressions"
   ]
  },
  {
   "cell_type": "markdown",
   "metadata": {},
   "source": [
    "#### Insights\n",
    "1. List comprehension은 list을 만드는 강력한 도구이다. List 생성이 아닌 다른 부가효과를 얻고 싶을 경우에는 readability를 위해 for loop을 쓰자.\n",
    "2. List comprehension은 filter, map보다 빠를 수도 있다."
   ]
  },
  {
   "cell_type": "code",
   "execution_count": null,
   "metadata": {},
   "outputs": [],
   "source": [
    "import timeit\n",
    "TIMES = 10000\n",
    "SETUP = \"\"\"\n",
    "        symbols = '$¢£¥€¤'\n",
    "        def non_ascii(c):\n",
    "        return c > 127\n",
    "    \"\"\"\n",
    "\n",
    "def clock(label, cmd):\n",
    "    res = timeit.repeat(cmd, setup=SETUP, number=TIMES)\n",
    "    print(label, *(f'{x:.3f}' for x in res))\n",
    "    clock('listcomp        :', '[ord(s) for s in symbols if ord(s) > 127]')\n",
    "    clock('listcomp + func :', '[ord(s) for s in symbols if non_ascii(ord(s))]')\n",
    "    clock('filter + lambda :', 'list(filter(lambda c: c > 127, map(ord, symbols)))')\n",
    "    clock('filter + func   :', 'list(filter(non_ascii, map(ord, symbols)))')"
   ]
  },
  {
   "cell_type": "markdown",
   "metadata": {},
   "source": [
    "3. List가 아니라 단순히 iterate이 가능한 원소들이 필요할 경우 *genexp* (generator expression, 생성형 표현?)을 사용하면 원소 하나를 만들고 지우기를 반복해 list을 생성하는데 사용될 메모리를 아낀다. `(foo(dat) for dat in dats)`처럼 표현식을 괄호로 두르면 된다. 함수가 genexp을 유일한 변수로 받을 경우 굳이 괄호를 칠 필요는 없다.\n",
    "\n",
    "4. Tuple을 단순히 immutable list가 아니라, field name이 없는 기록자료로도 쓸 수 있다. 예로 여행한 국가들을 순서대로 tuple에 저장한다면, tuple의 순서와 tuple 안 원소의 개수가 매우 중요해진다.\n",
    "\n",
    "5. Tuple의 원소에 mutable object을 저장한다면 그 object가 변경될 경우 tuple도 변경된다. 일반적으로 tuple 안에 mutable object을 원소로 저장하지 않는다.\n",
    "\n",
    "6. Tuple을 unpack할 때 (요즘에는 iterable unpacking이라고 부르는 듯) a, b, c = (a_val, b_val, c_val) 식으로 바로 할 수 있다. 또한 print문에서도 %s%s%s 식으로 바로 unpacking이 가능하다. Unpacking을 이용해서 `a,b=b,a`식으로 빠른 순서 바꾸기도 가능하다. Nested expression도 형식만 일관적이면 unpacking이 가능하다.\n",
    "\n",
    "7. Pattern Matching"
   ]
  }
 ],
 "metadata": {
  "language_info": {
   "name": "python"
  }
 },
 "nbformat": 4,
 "nbformat_minor": 2
}
